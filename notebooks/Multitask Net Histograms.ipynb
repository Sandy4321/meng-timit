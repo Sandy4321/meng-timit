{
 "cells": [
  {
   "cell_type": "code",
   "execution_count": 1,
   "metadata": {
    "collapsed": true,
    "scrolled": true
   },
   "outputs": [],
   "source": [
    "import os\n",
    "import sys\n",
    "sys.path.append(\"../models\")\n",
    "sys.path.append(\"../py_utils\")\n",
    "\n",
    "import torch\n",
    "from torch.autograd import Variable\n",
    "\n",
    "from ipywidgets import interact, fixed\n",
    "import ipywidgets as widgets\n",
    "import matplotlib.pyplot as plt\n",
    "import numpy as np"
   ]
  },
  {
   "cell_type": "code",
   "execution_count": 2,
   "metadata": {
    "scrolled": true
   },
   "outputs": [
    {
     "name": "stdout",
     "output_type": "stream",
     "text": [
      "Using experiment C_64_128_128_K_5_3_3_P_2_0_2_LATENT_512_PHONE_FC__512_512/BN_false_OPT_Adam_LR_0.0001_EPOCHS_35_BATCH_256\n"
     ]
    }
   ],
   "source": [
    "# First, the env variables needed from path.sh\n",
    "os.environ[\"LOGS\"] = \"/data/sls/scratch/atitus5/meng/logs\"\n",
    "os.environ[\"MODELS\"] = \"/data/sls/scratch/atitus5/meng/models\"\n",
    "os.environ[\"FEATS\"] = \"/data/sls/scratch/atitus5/meng/feats\"\n",
    "\n",
    "# Now, from models/base_config.sh\n",
    "os.environ[\"FEAT_DIM\"]=\"40\"      # 40-dim Mel filter bank\n",
    "os.environ[\"LEFT_CONTEXT\"]=\"7\"\n",
    "os.environ[\"RIGHT_CONTEXT\"]=\"7\"\n",
    "os.environ[\"OPTIMIZER\"]=\"Adam\"\n",
    "os.environ[\"LEARNING_RATE\"]=\"0.0001\"\n",
    "os.environ[\"EPOCHS\"]=\"35\"\n",
    "os.environ[\"BATCH_SIZE\"]=\"256\"\n",
    "\n",
    "channels=[64,128,128]\n",
    "kernels=[5,3,3]\n",
    "downsamples=[2,0,2]\n",
    "os.environ[\"CHANNELS_DELIM\"]=\"_%s\" % (\"_\".join(map(str, channels)))\n",
    "os.environ[\"KERNELS_DELIM\"]=\"_%s\" % (\"_\".join(map(str, kernels)))\n",
    "os.environ[\"DOWNSAMPLES_DELIM\"]=\"_%s\" % (\"_\".join(map(str, downsamples)))\n",
    "\n",
    "latent_dim=512\n",
    "os.environ[\"LATENT_DIM\"]=str(latent_dim)\n",
    "\n",
    "os.environ[\"USE_BATCH_NORM\"]=\"false\"\n",
    "\n",
    "phones_fc=[512,512]\n",
    "os.environ[\"PHONE_FC_DELIM\"]=\"_%s\" % (\"_\".join(map(str, phones_fc)))\n",
    "os.environ[\"NUM_PHONES\"]=\"2020\"\n",
    "\n",
    "os.environ[\"CLEAN_DATASET\"]=\"timit_clean\"\n",
    "os.environ[\"CLEAN_FEATS\"]=\"%s/%s\" % (os.environ[\"FEATS\"], os.environ[\"CLEAN_DATASET\"])\n",
    "\n",
    "os.environ[\"DIRTY_DATASET\"]=\"timit_dirty_100_rir\"\n",
    "os.environ[\"DIRTY_FEATS\"]=\"%s/%s\" % (os.environ[\"FEATS\"], os.environ[\"DIRTY_DATASET\"])\n",
    "\n",
    "os.environ[\"EXPT_NAME\"]=\"C%s_K%s_P%s_LATENT_%s_PHONE_FC_%s/BN_%s_OPT_%s_LR_%s_EPOCHS_%s_BATCH_%s\" % (os.environ[\"CHANNELS_DELIM\"],\n",
    "                                                                                                     os.environ[\"KERNELS_DELIM\"],\n",
    "                                                                                                     os.environ[\"DOWNSAMPLES_DELIM\"],\n",
    "                                                                                                     os.environ[\"LATENT_DIM\"],\n",
    "                                                                                                     os.environ[\"PHONE_FC_DELIM\"],\n",
    "                                                                                                     os.environ[\"USE_BATCH_NORM\"],\n",
    "                                                                                                     os.environ[\"OPTIMIZER\"],\n",
    "                                                                                                     os.environ[\"LEARNING_RATE\"],\n",
    "                                                                                                     os.environ[\"EPOCHS\"],\n",
    "                                                                                                     os.environ[\"BATCH_SIZE\"])\n",
    "\n",
    "os.environ[\"MODEL_DIR\"]=\"%s/%s/%s\" % (os.environ[\"MODELS\"], os.environ[\"DIRTY_DATASET\"], os.environ[\"EXPT_NAME\"])\n",
    "\n",
    "# Check that the environment variables worked\n",
    "print(\"Using experiment %s\" % os.environ[\"EXPT_NAME\"])"
   ]
  },
  {
   "cell_type": "code",
   "execution_count": 3,
   "metadata": {
    "scrolled": true
   },
   "outputs": [
    {
     "name": "stdout",
     "output_type": "stream",
     "text": [
      "122487 dev histograms set up\n",
      "57919 test histograms set up\n",
      "Set up all histogram files\n"
     ]
    }
   ],
   "source": [
    "# Set up file paths for histograms\n",
    "dirty_dataset = \"timit_dirty_100_rir\"\n",
    "log_dir=\"%s/%s/%s\" % (os.environ[\"LOGS\"], dirty_dataset, os.environ[\"EXPT_NAME\"])\n",
    "model_type = \"multitask_net\"\n",
    "\n",
    "dev_histogram_path = \"%s/%s_dev.histogram\" % (log_dir, model_type)\n",
    "dev_pre_dist = []\n",
    "dev_post_dist = []\n",
    "with open(dev_histogram_path, 'r') as dev_histogram_file:\n",
    "    for line in dev_histogram_file:\n",
    "        pre_dist, post_dist = list(map(float, line.strip().split(\" \")))[0:2]\n",
    "        dev_pre_dist.append(pre_dist)\n",
    "        dev_post_dist.append(post_dist)\n",
    "print(\"%d dev histograms set up\" % len(dev_pre_dist))\n",
    "        \n",
    "test_histogram_path = \"%s/%s_test.histogram\" % (log_dir, model_type)\n",
    "test_pre_dist = []\n",
    "test_post_dist = []\n",
    "with open(test_histogram_path, 'r') as test_histogram_file:\n",
    "    for line in test_histogram_file:\n",
    "        pre_dist, post_dist = list(map(float, line.strip().split(\" \")))[0:2]\n",
    "        test_pre_dist.append(pre_dist)\n",
    "        test_post_dist.append(post_dist)\n",
    "print(\"%d test histograms set up\" % len(test_pre_dist))\n",
    "\n",
    "print(\"Set up all histogram files\")"
   ]
  },
  {
   "cell_type": "code",
   "execution_count": 4,
   "metadata": {},
   "outputs": [
    {
     "data": {
      "image/png": "[encoded data removed]",
      "text/plain": [
       "<matplotlib.figure.Figure at 0x7feb8e70c128>"
      ]
     },
     "metadata": {},
     "output_type": "display_data"
    }
   ],
   "source": [
    "# DEV SET HISTOGRAMS\n",
    "nbins = 200\n",
    "plt.hist(dev_pre_dist, nbins, alpha=0.5, label=\"Pre-enhancement\")\n",
    "plt.hist(dev_post_dist, nbins, alpha=0.5, label=\"Post-enhancement\")\n",
    "plt.legend(loc='upper right')\n",
    "plt.title(\"TIMIT Dev Set\")\n",
    "plt.show()"
   ]
  },
  {
   "cell_type": "code",
   "execution_count": 8,
   "metadata": {},
   "outputs": [
    {
     "data": {
      "image/png": "[encoded data removed]",
      "text/plain": [
       "<matplotlib.figure.Figure at 0x7feb889402b0>"
      ]
     },
     "metadata": {},
     "output_type": "display_data"
    }
   ],
   "source": [
    "# TEST SET HISTOGRAMS\n",
    "nbins = 200\n",
    "plt.hist(test_pre_dist, nbins, alpha=0.5, label=\"Pre-enhancement\")\n",
    "plt.hist(test_post_dist, nbins, alpha=0.5, label=\"Post-enhancement\")\n",
    "plt.legend(loc='upper right')\n",
    "plt.title(\"TIMIT Test Set\")\n",
    "plt.show()"
   ]
  },
  {
   "cell_type": "code",
   "execution_count": null,
   "metadata": {
    "collapsed": true
   },
   "outputs": [],
   "source": []
  }
 ],
 "metadata": {
  "kernelspec": {
   "display_name": "Python 3",
   "language": "python",
   "name": "python3"
  },
  "language_info": {
   "codemirror_mode": {
    "name": "ipython",
    "version": 3
   },
   "file_extension": ".py",
   "mimetype": "text/x-python",
   "name": "python",
   "nbconvert_exporter": "python",
   "pygments_lexer": "ipython3",
   "version": "3.6.3"
  }
 },
 "nbformat": 4,
 "nbformat_minor": 2
}
