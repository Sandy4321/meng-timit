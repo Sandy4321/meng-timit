{
 "cells": [
  {
   "cell_type": "code",
   "execution_count": 1,
   "metadata": {
    "collapsed": true
   },
   "outputs": [],
   "source": [
    "import os\n",
    "import sys\n",
    "sys.path.append(\"../cnn\")\n",
    "sys.path.append(\"../utils\")\n",
    "\n",
    "import torch\n",
    "from torch.autograd import Variable\n",
    "\n",
    "from ipywidgets import interact, fixed\n",
    "import ipywidgets as widgets\n",
    "import matplotlib.pyplot as plt\n",
    "import numpy as np\n",
    "\n",
    "# import seaborn as sns; sns.set()\n",
    "\n",
    "from cnn_md import CNNMultidecoder\n",
    "from cnn_md import CNNDomainAdversarialMultidecoder\n",
    "from cnn_md import CNNGANMultidecoder\n",
    "from kaldi_data import read_next_utt"
   ]
  },
  {
   "cell_type": "code",
   "execution_count": 2,
   "metadata": {},
   "outputs": [
    {
     "name": "stdout",
     "output_type": "stream",
     "text": [
      "Using experiment RECON_true_TRANS_true_ENC_C_64_64_K_5_5_P_3_3_F_/LATENT_256/DEC_F__C_64_64_K_5_5_P_3_3/ACT_ReLU_BN_false_WEIGHT_INIT_xavier_uniform/OPT_Adam_LR_0.001_L2_REG_0.0_EPOCHS_100_BATCH_64\n"
     ]
    }
   ],
   "source": [
    "# Set up environment variables for the model we want to examine\n",
    "# NOT necessarily the current environment variables!!\n",
    "\n",
    "feat_dim=40\n",
    "left_splice=5\n",
    "right_splice=5\n",
    "\n",
    "optimizer=\"Adam\"\n",
    "learning_rate=\"0.001\" # Use string instead of float to prevent Python's auto-formatting...\n",
    "l2_reg=\"0.0\" # Use string instead of float to prevent Python's auto-formatting...\n",
    "epochs=100\n",
    "batch_size=64\n",
    "\n",
    "enc_channels=[64,64]\n",
    "enc_kernels=[5,5]\n",
    "enc_downsamples=[3,3]\n",
    "enc_fc=[]\n",
    "\n",
    "latent_dim=256\n",
    "\n",
    "dec_fc=[]\n",
    "dec_channels=[64,64]\n",
    "dec_kernels=[5,5]\n",
    "dec_upsamples=[3,3]\n",
    "\n",
    "use_batch_norm=False\n",
    "use_batch_norm_str = \"true\" if use_batch_norm else \"false\"\n",
    "activation=\"ReLU\"\n",
    "weight_init=\"xavier_uniform\"\n",
    "\n",
    "enc_channels_delim=\"_\" + \"_\".join(map(str, enc_channels))\n",
    "if len(enc_channels) == 0:\n",
    "     # need to recreate bash join behavior with empty array\n",
    "    enc_channels_delim=\"_\"\n",
    "enc_kernels_delim=\"_\" + \"_\".join(map(str, enc_kernels))\n",
    "if len(enc_kernels) == 0:\n",
    "     # need to recreate bash join behavior with empty array\n",
    "    enc_kernels_delim=\"_\"\n",
    "enc_downsamples_delim=\"_\" + \"_\".join(map(str, enc_downsamples))\n",
    "if len(enc_downsamples) == 0:\n",
    "     # need to recreate bash join behavior with empty array\n",
    "    enc_downsamples_delim=\"_\"\n",
    "enc_fc_delim=\"_\" + \"_\".join(map(str, enc_fc))\n",
    "if len(enc_fc) == 0:\n",
    "     # need to recreate bash join behavior with empty array\n",
    "    enc_fc_delim=\"_\"\n",
    "    \n",
    "dec_fc_delim=\"_\" + \"_\".join(map(str, dec_fc))\n",
    "if len(dec_fc) == 0:\n",
    "     # need to recreate bash join behavior with empty array\n",
    "    dec_fc_delim=\"_\"\n",
    "dec_channels_delim=\"_\" + \"_\".join(map(str, dec_channels))\n",
    "if len(dec_channels) == 0:\n",
    "     # need to recreate bash join behavior with empty array\n",
    "    dec_channels_delim=\"_\"\n",
    "dec_kernels_delim=\"_\" + \"_\".join(map(str, dec_kernels))\n",
    "if len(dec_kernels) == 0:\n",
    "     # need to recreate bash join behavior with empty array\n",
    "    dec_kernels_delim=\"_\"\n",
    "dec_upsamples_delim=\"_\" + \"_\".join(map(str, dec_upsamples))\n",
    "if len(dec_upsamples) == 0:\n",
    "     # need to recreate bash join behavior with empty array\n",
    "    dec_upsamples_delim=\"_\"\n",
    "\n",
    "use_transformation = True\n",
    "use_transformation_str = \"true\" if use_transformation else \"false\"\n",
    "use_reconstruction = True\n",
    "use_reconstruction_str = \"true\" if use_reconstruction else \"false\"\n",
    "    \n",
    "expt_name = \"RECON_%s_TRANS_%s_ENC_C%s_K%s_P%s_F%s/LATENT_%d/DEC_F%s_C%s_K%s_P%s/ACT_%s_BN_%s_WEIGHT_INIT_%s/OPT_%s_LR_%s_L2_REG_%s_EPOCHS_%d_BATCH_%d\" % (use_reconstruction_str,\n",
    "                                                                                                                                        use_transformation_str,\n",
    "                                                                                                                                        enc_channels_delim,\n",
    "                                                                                                                                        enc_kernels_delim, \n",
    "                                                                                                                                        enc_downsamples_delim, \n",
    "                                                                                                                                        enc_fc_delim,\n",
    "                                                                                                                                        latent_dim,\n",
    "                                                                                                                                        dec_fc_delim,\n",
    "                                                                                                                                        dec_channels_delim,\n",
    "                                                                                                                                        dec_kernels_delim,                                                                                                                   \n",
    "                                                                                                                                        dec_upsamples_delim,\n",
    "                                                                                                                                        activation,\n",
    "                                                                                                                                        use_batch_norm_str,\n",
    "                                                                                                                                        weight_init,\n",
    "                                                                                                                                        optimizer,\n",
    "                                                                                                                                        learning_rate,\n",
    "                                                                                                                                        l2_reg,\n",
    "                                                                                                                                        epochs,\n",
    "                                                                                                                                        batch_size)\n",
    "\n",
    "time_dim = (left_splice + right_splice + 1)\n",
    "freq_dim = feat_dim\n",
    "\n",
    "print(\"Using experiment %s\" % expt_name)\n",
    "\n",
    "clean_dataset=\"timit_clean\"\n",
    "# dirty_dataset=\"timit_dirty_single_rir\"\n",
    "dirty_dataset=\"timit_gaussian_5.0\"\n",
    "\n",
    "domain_adv_fc = [512]\n",
    "domain_adv_fc_delim=\"_\" + \"_\".join(map(str, domain_adv_fc))\n",
    "if len(domain_adv_fc) == 0:\n",
    "     # need to recreate bash join behavior with empty array\n",
    "    domain_adv_fc_delim=\"_\"\n",
    "domain_adv_activation = \"Sigmoid\"\n",
    "\n",
    "gan_fc = [512]\n",
    "gan_fc_delim=\"_\" + \"_\".join(map(str, gan_fc))\n",
    "if len(gan_fc) == 0:\n",
    "     # need to recreate bash join behavior with empty array\n",
    "    gan_fc_delim=\"_\"\n",
    "gan_activation = \"Sigmoid\""
   ]
  },
  {
   "cell_type": "code",
   "execution_count": 3,
   "metadata": {},
   "outputs": [
    {
     "name": "stdout",
     "output_type": "stream",
     "text": [
      "Loaded checkpoint\n"
     ]
    }
   ],
   "source": [
    "# Load checkpoint (potentially trained on GPU) into CPU memory (hence the map_location)\n",
    "domain_adversarial = False\n",
    "gan = False\n",
    "checkpoint_dir = \"/data/sls/scratch/atitus5/meng/models/cnn/%s/%s\" % (dirty_dataset,\n",
    "                                                                      expt_name)\n",
    "if domain_adversarial:\n",
    "    checkpoint_file = \"%s/best_md_domain.pth.tar\" % checkpoint_dir\n",
    "elif gan:\n",
    "    checkpoint_file = \"%s/best_md_gan.pth.tar\" % checkpoint_dir\n",
    "else:\n",
    "    checkpoint_file = \"%s/best_md_vanilla.pth.tar\" % checkpoint_dir\n",
    "        \n",
    "checkpoint = torch.load(checkpoint_file, map_location=lambda storage,loc: storage)\n",
    "print(\"Loaded checkpoint\")"
   ]
  },
  {
   "cell_type": "code",
   "execution_count": 4,
   "metadata": {},
   "outputs": [
    {
     "data": {
      "image/png": "[encoded data removed]",
      "text/plain": [
       "<matplotlib.figure.Figure at 0x7f1fd0ec22e8>"
      ]
     },
     "metadata": {},
     "output_type": "display_data"
    }
   ],
   "source": [
    "color_map = \"coolwarm\"\n",
    "# color_map = \"viridis\"\n",
    "def plotFirstLayerKernels(name, num_cols):\n",
    "    weights = checkpoint[\"state_dict\"][name].numpy()\n",
    "    if len(weights.shape) != 4:\n",
    "        print(\"plotFirstLayerKernels expects a 4D tensor; got a %dD tensor instead\" % len(weights.shape))\n",
    "    if weights.shape[1] != 1:\n",
    "        print(\"plotFirstLayerKernels can only visualize 1 input channel of data\")\n",
    "    num_kernels = weights.shape[0]\n",
    "        \n",
    "    num_rows = int(num_kernels // num_cols) + 1\n",
    "    kernels = weights.reshape((num_kernels, weights.shape[2], weights.shape[3]))\n",
    "    \n",
    "    fig = plt.figure(figsize=(16, 16)) \n",
    "    for row in range(num_rows):\n",
    "        for col in range(num_cols):\n",
    "            kernel_idx = (row * num_cols) + col\n",
    "            if kernel_idx < num_kernels:\n",
    "                ax = plt.subplot(num_rows, num_cols, kernel_idx + 1)\n",
    "                ax.axis('off')   # Pretty-up the result a bit\n",
    "                plt.imshow(kernels[kernel_idx], cmap=color_map, aspect='equal')\n",
    "    plt.show()\n",
    "    \n",
    "col_count = 8\n",
    "plotFirstLayerKernels(\"encoder_conv.conv2d_0.weight\", col_count)"
   ]
  },
  {
   "cell_type": "code",
   "execution_count": null,
   "metadata": {
    "collapsed": true
   },
   "outputs": [],
   "source": []
  }
 ],
 "metadata": {
  "kernelspec": {
   "display_name": "Python 3",
   "language": "python",
   "name": "python3"
  },
  "language_info": {
   "codemirror_mode": {
    "name": "ipython",
    "version": 3
   },
   "file_extension": ".py",
   "mimetype": "text/x-python",
   "name": "python",
   "nbconvert_exporter": "python",
   "pygments_lexer": "ipython3",
   "version": "3.6.3"
  }
 },
 "nbformat": 4,
 "nbformat_minor": 2
}
